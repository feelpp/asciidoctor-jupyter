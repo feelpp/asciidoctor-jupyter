{
  "cells": [
    {
      "cell_type": "markdown",
      "source": "# The Lorenz Differential Equations",
      "metadata": {}
    },
    {
      "cell_type": "markdown",
      "source": "Before we start, we import some preliminary libraries. We will also import (below) the accompanying `lorenz.py` file, which contains the actual solver and plotting routine.",
      "metadata": {}
    },
    {
      "cell_type": "code",
      "source": "%matplotlib inline\nfrom ipywidgets import interactive, fixed",
      "metadata": {
        "trusted": true
      },
      "execution_count": null,
      "outputs": []
    },
    {
      "cell_type": "markdown",
      "source": "We explore the Lorenz system of differential equations:\n\n$$\n\\begin{aligned}\n\\dot{x} & = \\sigma(y-x) \\\\\n\\dot{y} & = \\rho x - y - xz \\\\\n\\dot{z} & = -\\beta z + xy\n\\end{aligned}\n$$\n\nLet's change (\\\\(\\sigma\\\\), \\\\(\\beta\\\\), \\\\(\\rho\\\\)) with ipywidgets and examine the trajectories.",
      "metadata": {}
    },
    {
      "cell_type": "code",
      "source": "from lorenz import solve_lorenz\nw=interactive(solve_lorenz,sigma=(0.0,60.0),rho=(0.0,50.0))\nw",
      "metadata": {
        "trusted": true
      },
      "execution_count": 4,
      "outputs": [
        {
          "output_type": "display_data",
          "data": {
            "text/plain": "interactive(children=(FloatSlider(value=10.0, description='sigma', max=60.0), FloatSlider(value=2.666666666666…",
            "application/vnd.jupyter.widget-view+json": {
              "version_major": 2,
              "version_minor": 0,
              "model_id": "583c22f6774f4e948d2bb40cfc3ff526"
            }
          },
          "metadata": {}
        }
      ]
    },
    {
      "cell_type": "markdown",
      "source": "For the default set of parameters, we see the trajectories swirling around two points, called attractors. ",
      "metadata": {}
    },
    {
      "cell_type": "markdown",
      "source": "The object returned by `interactive` is a `Widget` object and it has attributes that contain the current result and arguments:",
      "metadata": {}
    },
    {
      "cell_type": "code",
      "source": "t, x_t = w.result",
      "metadata": {},
      "execution_count": null,
      "outputs": []
    },
    {
      "cell_type": "code",
      "source": "w.kwargs",
      "metadata": {},
      "execution_count": null,
      "outputs": []
    },
    {
      "cell_type": "markdown",
      "source": "After interacting with the system, we can take the result and perform further computations. In this case, we compute the average positions in \\\\(x\\\\), \\\\(y\\\\) and \\\\(z\\\\).",
      "metadata": {}
    },
    {
      "cell_type": "code",
      "source": "xyz_avg = x_t.mean(axis=1)",
      "metadata": {},
      "execution_count": null,
      "outputs": []
    },
    {
      "cell_type": "code",
      "source": "xyz_avg.shape",
      "metadata": {},
      "execution_count": null,
      "outputs": []
    },
    {
      "cell_type": "markdown",
      "source": "Creating histograms of the average positions (across different trajectories) show that, on average, the trajectories swirl about the attractors.",
      "metadata": {}
    },
    {
      "cell_type": "code",
      "source": "from matplotlib import pyplot as plt",
      "metadata": {},
      "execution_count": null,
      "outputs": []
    },
    {
      "cell_type": "code",
      "source": "plt.hist(xyz_avg[:,0])\nplt.title('Average $x(t)$');",
      "metadata": {},
      "execution_count": null,
      "outputs": []
    },
    {
      "cell_type": "code",
      "source": "plt.hist(xyz_avg[:,1])\nplt.title('Average $y(t)$');",
      "metadata": {},
      "execution_count": null,
      "outputs": []
    }
  ],
  "nbformat_minor": 4,
  "nbformat": 4
}